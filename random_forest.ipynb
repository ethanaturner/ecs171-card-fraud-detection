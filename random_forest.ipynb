{
 "cells": [
  {
   "cell_type": "code",
   "execution_count": 38,
   "id": "0451c03d-565f-4027-9522-dfe65ad01d32",
   "metadata": {},
   "outputs": [],
   "source": [
    "import pandas as pd"
   ]
  },
  {
   "cell_type": "code",
   "execution_count": 40,
   "id": "77840c01-1344-40e9-bc6e-426fbd29e330",
   "metadata": {},
   "outputs": [
    {
     "data": {
      "text/html": [
       "<div>\n",
       "<style scoped>\n",
       "    .dataframe tbody tr th:only-of-type {\n",
       "        vertical-align: middle;\n",
       "    }\n",
       "\n",
       "    .dataframe tbody tr th {\n",
       "        vertical-align: top;\n",
       "    }\n",
       "\n",
       "    .dataframe thead th {\n",
       "        text-align: right;\n",
       "    }\n",
       "</style>\n",
       "<table border=\"1\" class=\"dataframe\">\n",
       "  <thead>\n",
       "    <tr style=\"text-align: right;\">\n",
       "      <th></th>\n",
       "      <th>category</th>\n",
       "      <th>amt</th>\n",
       "      <th>is_fraud</th>\n",
       "      <th>hour</th>\n",
       "      <th>trans_count_7d</th>\n",
       "      <th>trans_count_30d</th>\n",
       "      <th>time_diff</th>\n",
       "    </tr>\n",
       "  </thead>\n",
       "  <tbody>\n",
       "    <tr>\n",
       "      <th>0</th>\n",
       "      <td>misc_net</td>\n",
       "      <td>4.97</td>\n",
       "      <td>0</td>\n",
       "      <td>1</td>\n",
       "      <td>0.0</td>\n",
       "      <td>0.0</td>\n",
       "      <td>0.000000</td>\n",
       "    </tr>\n",
       "    <tr>\n",
       "      <th>1</th>\n",
       "      <td>grocery_pos</td>\n",
       "      <td>107.23</td>\n",
       "      <td>0</td>\n",
       "      <td>1</td>\n",
       "      <td>0.0</td>\n",
       "      <td>0.0</td>\n",
       "      <td>0.000000</td>\n",
       "    </tr>\n",
       "    <tr>\n",
       "      <th>2</th>\n",
       "      <td>entertainment</td>\n",
       "      <td>220.11</td>\n",
       "      <td>0</td>\n",
       "      <td>1</td>\n",
       "      <td>0.0</td>\n",
       "      <td>0.0</td>\n",
       "      <td>0.000000</td>\n",
       "    </tr>\n",
       "    <tr>\n",
       "      <th>3</th>\n",
       "      <td>gas_transport</td>\n",
       "      <td>45.00</td>\n",
       "      <td>0</td>\n",
       "      <td>1</td>\n",
       "      <td>0.0</td>\n",
       "      <td>0.0</td>\n",
       "      <td>0.000000</td>\n",
       "    </tr>\n",
       "    <tr>\n",
       "      <th>4</th>\n",
       "      <td>misc_pos</td>\n",
       "      <td>41.96</td>\n",
       "      <td>0</td>\n",
       "      <td>1</td>\n",
       "      <td>0.0</td>\n",
       "      <td>0.0</td>\n",
       "      <td>0.000000</td>\n",
       "    </tr>\n",
       "    <tr>\n",
       "      <th>...</th>\n",
       "      <td>...</td>\n",
       "      <td>...</td>\n",
       "      <td>...</td>\n",
       "      <td>...</td>\n",
       "      <td>...</td>\n",
       "      <td>...</td>\n",
       "      <td>...</td>\n",
       "    </tr>\n",
       "    <tr>\n",
       "      <th>1852389</th>\n",
       "      <td>health_fitness</td>\n",
       "      <td>43.77</td>\n",
       "      <td>0</td>\n",
       "      <td>1</td>\n",
       "      <td>39.0</td>\n",
       "      <td>167.0</td>\n",
       "      <td>4.619444</td>\n",
       "    </tr>\n",
       "    <tr>\n",
       "      <th>1852390</th>\n",
       "      <td>kids_pets</td>\n",
       "      <td>111.84</td>\n",
       "      <td>0</td>\n",
       "      <td>1</td>\n",
       "      <td>62.0</td>\n",
       "      <td>272.0</td>\n",
       "      <td>2.706389</td>\n",
       "    </tr>\n",
       "    <tr>\n",
       "      <th>1852391</th>\n",
       "      <td>kids_pets</td>\n",
       "      <td>86.88</td>\n",
       "      <td>0</td>\n",
       "      <td>1</td>\n",
       "      <td>67.0</td>\n",
       "      <td>277.0</td>\n",
       "      <td>0.201111</td>\n",
       "    </tr>\n",
       "    <tr>\n",
       "      <th>1852392</th>\n",
       "      <td>travel</td>\n",
       "      <td>7.99</td>\n",
       "      <td>0</td>\n",
       "      <td>1</td>\n",
       "      <td>36.0</td>\n",
       "      <td>192.0</td>\n",
       "      <td>3.340278</td>\n",
       "    </tr>\n",
       "    <tr>\n",
       "      <th>1852393</th>\n",
       "      <td>entertainment</td>\n",
       "      <td>38.13</td>\n",
       "      <td>0</td>\n",
       "      <td>1</td>\n",
       "      <td>67.0</td>\n",
       "      <td>286.0</td>\n",
       "      <td>1.982222</td>\n",
       "    </tr>\n",
       "  </tbody>\n",
       "</table>\n",
       "<p>1852394 rows × 7 columns</p>\n",
       "</div>"
      ],
      "text/plain": [
       "               category     amt  is_fraud  hour  trans_count_7d  \\\n",
       "0              misc_net    4.97         0     1             0.0   \n",
       "1           grocery_pos  107.23         0     1             0.0   \n",
       "2         entertainment  220.11         0     1             0.0   \n",
       "3         gas_transport   45.00         0     1             0.0   \n",
       "4              misc_pos   41.96         0     1             0.0   \n",
       "...                 ...     ...       ...   ...             ...   \n",
       "1852389  health_fitness   43.77         0     1            39.0   \n",
       "1852390       kids_pets  111.84         0     1            62.0   \n",
       "1852391       kids_pets   86.88         0     1            67.0   \n",
       "1852392          travel    7.99         0     1            36.0   \n",
       "1852393   entertainment   38.13         0     1            67.0   \n",
       "\n",
       "         trans_count_30d  time_diff  \n",
       "0                    0.0   0.000000  \n",
       "1                    0.0   0.000000  \n",
       "2                    0.0   0.000000  \n",
       "3                    0.0   0.000000  \n",
       "4                    0.0   0.000000  \n",
       "...                  ...        ...  \n",
       "1852389            167.0   4.619444  \n",
       "1852390            272.0   2.706389  \n",
       "1852391            277.0   0.201111  \n",
       "1852392            192.0   3.340278  \n",
       "1852393            286.0   1.982222  \n",
       "\n",
       "[1852394 rows x 7 columns]"
      ]
     },
     "execution_count": 40,
     "metadata": {},
     "output_type": "execute_result"
    }
   ],
   "source": [
    "df = pd.read_csv('data-stage2.csv')\n",
    "df"
   ]
  },
  {
   "cell_type": "code",
   "execution_count": 42,
   "id": "213f2643-4da0-4548-a301-d2bb807d5000",
   "metadata": {},
   "outputs": [
    {
     "data": {
      "text/html": [
       "<style>div.sk-top-container {color: black;background-color: white;}div.sk-toggleable {background-color: white;}label.sk-toggleable__label {cursor: pointer;display: block;width: 100%;margin-bottom: 0;padding: 0.2em 0.3em;box-sizing: border-box;text-align: center;}div.sk-toggleable__content {max-height: 0;max-width: 0;overflow: hidden;text-align: left;background-color: #f0f8ff;}div.sk-toggleable__content pre {margin: 0.2em;color: black;border-radius: 0.25em;background-color: #f0f8ff;}input.sk-toggleable__control:checked~div.sk-toggleable__content {max-height: 200px;max-width: 100%;overflow: auto;}div.sk-estimator input.sk-toggleable__control:checked~label.sk-toggleable__label {background-color: #d4ebff;}div.sk-label input.sk-toggleable__control:checked~label.sk-toggleable__label {background-color: #d4ebff;}input.sk-hidden--visually {border: 0;clip: rect(1px 1px 1px 1px);clip: rect(1px, 1px, 1px, 1px);height: 1px;margin: -1px;overflow: hidden;padding: 0;position: absolute;width: 1px;}div.sk-estimator {font-family: monospace;background-color: #f0f8ff;margin: 0.25em 0.25em;border: 1px dotted black;border-radius: 0.25em;box-sizing: border-box;}div.sk-estimator:hover {background-color: #d4ebff;}div.sk-parallel-item::after {content: \"\";width: 100%;border-bottom: 1px solid gray;flex-grow: 1;}div.sk-label:hover label.sk-toggleable__label {background-color: #d4ebff;}div.sk-serial::before {content: \"\";position: absolute;border-left: 1px solid gray;box-sizing: border-box;top: 2em;bottom: 0;left: 50%;}div.sk-serial {display: flex;flex-direction: column;align-items: center;background-color: white;}div.sk-item {z-index: 1;}div.sk-parallel {display: flex;align-items: stretch;justify-content: center;background-color: white;}div.sk-parallel-item {display: flex;flex-direction: column;position: relative;background-color: white;}div.sk-parallel-item:first-child::after {align-self: flex-end;width: 50%;}div.sk-parallel-item:last-child::after {align-self: flex-start;width: 50%;}div.sk-parallel-item:only-child::after {width: 0;}div.sk-dashed-wrapped {border: 1px dashed gray;margin: 0.2em;box-sizing: border-box;padding-bottom: 0.1em;background-color: white;position: relative;}div.sk-label label {font-family: monospace;font-weight: bold;background-color: white;display: inline-block;line-height: 1.2em;}div.sk-label-container {position: relative;z-index: 2;text-align: center;}div.sk-container {display: inline-block;position: relative;}</style><div class=\"sk-top-container\"><div class=\"sk-container\"><div class=\"sk-item sk-dashed-wrapped\"><div class=\"sk-label-container\"><div class=\"sk-label sk-toggleable\"><input class=\"sk-toggleable__control sk-hidden--visually\" id=\"e0ef67bb-8cc0-4139-b691-a64f1203131c\" type=\"checkbox\" ><label class=\"sk-toggleable__label\" for=\"e0ef67bb-8cc0-4139-b691-a64f1203131c\">ColumnTransformer</label><div class=\"sk-toggleable__content\"><pre>ColumnTransformer(remainder='passthrough',\n",
       "                  transformers=[('num', MinMaxScaler(),\n",
       "                                 <sklearn.compose._column_transformer.make_column_selector object at 0x0000023C99656910>),\n",
       "                                ('cat', OneHotEncoder(),\n",
       "                                 <sklearn.compose._column_transformer.make_column_selector object at 0x0000023C99656B80>)])</pre></div></div></div><div class=\"sk-parallel\"><div class=\"sk-parallel-item\"><div class=\"sk-item\"><div class=\"sk-label-container\"><div class=\"sk-label sk-toggleable\"><input class=\"sk-toggleable__control sk-hidden--visually\" id=\"7f95ed98-22c3-4237-8ec4-58eede696d5c\" type=\"checkbox\" ><label class=\"sk-toggleable__label\" for=\"7f95ed98-22c3-4237-8ec4-58eede696d5c\">num</label><div class=\"sk-toggleable__content\"><pre><sklearn.compose._column_transformer.make_column_selector object at 0x0000023C99656910></pre></div></div></div><div class=\"sk-serial\"><div class=\"sk-item\"><div class=\"sk-estimator sk-toggleable\"><input class=\"sk-toggleable__control sk-hidden--visually\" id=\"ad59446c-bc74-4ab4-8992-78fe60566eb8\" type=\"checkbox\" ><label class=\"sk-toggleable__label\" for=\"ad59446c-bc74-4ab4-8992-78fe60566eb8\">MinMaxScaler</label><div class=\"sk-toggleable__content\"><pre>MinMaxScaler()</pre></div></div></div></div></div></div><div class=\"sk-parallel-item\"><div class=\"sk-item\"><div class=\"sk-label-container\"><div class=\"sk-label sk-toggleable\"><input class=\"sk-toggleable__control sk-hidden--visually\" id=\"f7ddbf33-9be4-42bc-ad0a-31332de1f586\" type=\"checkbox\" ><label class=\"sk-toggleable__label\" for=\"f7ddbf33-9be4-42bc-ad0a-31332de1f586\">cat</label><div class=\"sk-toggleable__content\"><pre><sklearn.compose._column_transformer.make_column_selector object at 0x0000023C99656B80></pre></div></div></div><div class=\"sk-serial\"><div class=\"sk-item\"><div class=\"sk-estimator sk-toggleable\"><input class=\"sk-toggleable__control sk-hidden--visually\" id=\"f5f6be7d-338e-4cd5-b392-4b560409bc11\" type=\"checkbox\" ><label class=\"sk-toggleable__label\" for=\"f5f6be7d-338e-4cd5-b392-4b560409bc11\">OneHotEncoder</label><div class=\"sk-toggleable__content\"><pre>OneHotEncoder()</pre></div></div></div></div></div></div><div class=\"sk-parallel-item\"><div class=\"sk-item\"><div class=\"sk-label-container\"><div class=\"sk-label sk-toggleable\"><input class=\"sk-toggleable__control sk-hidden--visually\" id=\"f3769710-782d-4202-aadd-85d2fe93976f\" type=\"checkbox\" ><label class=\"sk-toggleable__label\" for=\"f3769710-782d-4202-aadd-85d2fe93976f\">remainder</label><div class=\"sk-toggleable__content\"><pre></pre></div></div></div><div class=\"sk-serial\"><div class=\"sk-item\"><div class=\"sk-estimator sk-toggleable\"><input class=\"sk-toggleable__control sk-hidden--visually\" id=\"23cba971-c56e-4e59-82e6-a15e28bbf5e0\" type=\"checkbox\" ><label class=\"sk-toggleable__label\" for=\"23cba971-c56e-4e59-82e6-a15e28bbf5e0\">passthrough</label><div class=\"sk-toggleable__content\"><pre>passthrough</pre></div></div></div></div></div></div></div></div></div></div>"
      ],
      "text/plain": [
       "ColumnTransformer(remainder='passthrough',\n",
       "                  transformers=[('num', MinMaxScaler(),\n",
       "                                 <sklearn.compose._column_transformer.make_column_selector object at 0x0000023C99656910>),\n",
       "                                ('cat', OneHotEncoder(),\n",
       "                                 <sklearn.compose._column_transformer.make_column_selector object at 0x0000023C99656B80>)])"
      ]
     },
     "execution_count": 42,
     "metadata": {},
     "output_type": "execute_result"
    }
   ],
   "source": [
    "from sklearn.compose import ColumnTransformer\n",
    "from sklearn.compose import make_column_selector\n",
    "from sklearn.preprocessing import MinMaxScaler, OneHotEncoder\n",
    "from sklearn import set_config\n",
    "\n",
    "preprocessor = ColumnTransformer(\n",
    "    transformers=[\n",
    "        (\"num\", MinMaxScaler(), make_column_selector(dtype_include=\"float64\")),\n",
    "        (\"cat\", OneHotEncoder(), make_column_selector(dtype_include=\"object\")),\n",
    "    ],\n",
    "    remainder='passthrough'\n",
    ")\n",
    "\n",
    "set_config(display=\"diagram\")\n",
    "\n",
    "preprocessor"
   ]
  },
  {
   "cell_type": "code",
   "execution_count": 45,
   "id": "488ece1b-3480-4c00-9a30-7a290cf28875",
   "metadata": {},
   "outputs": [],
   "source": [
    "X = preprocessor.fit_transform(df.drop(columns=['is_fraud']))\n",
    "y = df[['is_fraud']]                   "
   ]
  },
  {
   "cell_type": "code",
   "execution_count": 46,
   "id": "a1001cd4-3859-4f5f-b7f8-2f4b406c7b6a",
   "metadata": {},
   "outputs": [
    {
     "name": "stdout",
     "output_type": "stream",
     "text": [
      "(1481915, 19) (370479, 19) (1481915, 1) (370479, 1)\n"
     ]
    }
   ],
   "source": [
    "from sklearn.model_selection import train_test_split\n",
    "\n",
    "X_train, X_test, y_train, y_test = train_test_split(\n",
    "    X,\n",
    "    y,\n",
    "    test_size=0.2,\n",
    "    stratify=y\n",
    ")\n",
    "\n",
    "print(X_train.shape, X_test.shape, y_train.shape, y_test.shape)"
   ]
  },
  {
   "cell_type": "markdown",
   "id": "f45305dd-e515-4dfa-b3ef-0d1634950c92",
   "metadata": {},
   "source": [
    "## Imbalanced"
   ]
  },
  {
   "cell_type": "code",
   "execution_count": 58,
   "id": "53d59669-7bf2-45ad-a9ec-44f7f8f00ba2",
   "metadata": {},
   "outputs": [
    {
     "data": {
      "text/html": [
       "<style>div.sk-top-container {color: black;background-color: white;}div.sk-toggleable {background-color: white;}label.sk-toggleable__label {cursor: pointer;display: block;width: 100%;margin-bottom: 0;padding: 0.2em 0.3em;box-sizing: border-box;text-align: center;}div.sk-toggleable__content {max-height: 0;max-width: 0;overflow: hidden;text-align: left;background-color: #f0f8ff;}div.sk-toggleable__content pre {margin: 0.2em;color: black;border-radius: 0.25em;background-color: #f0f8ff;}input.sk-toggleable__control:checked~div.sk-toggleable__content {max-height: 200px;max-width: 100%;overflow: auto;}div.sk-estimator input.sk-toggleable__control:checked~label.sk-toggleable__label {background-color: #d4ebff;}div.sk-label input.sk-toggleable__control:checked~label.sk-toggleable__label {background-color: #d4ebff;}input.sk-hidden--visually {border: 0;clip: rect(1px 1px 1px 1px);clip: rect(1px, 1px, 1px, 1px);height: 1px;margin: -1px;overflow: hidden;padding: 0;position: absolute;width: 1px;}div.sk-estimator {font-family: monospace;background-color: #f0f8ff;margin: 0.25em 0.25em;border: 1px dotted black;border-radius: 0.25em;box-sizing: border-box;}div.sk-estimator:hover {background-color: #d4ebff;}div.sk-parallel-item::after {content: \"\";width: 100%;border-bottom: 1px solid gray;flex-grow: 1;}div.sk-label:hover label.sk-toggleable__label {background-color: #d4ebff;}div.sk-serial::before {content: \"\";position: absolute;border-left: 1px solid gray;box-sizing: border-box;top: 2em;bottom: 0;left: 50%;}div.sk-serial {display: flex;flex-direction: column;align-items: center;background-color: white;}div.sk-item {z-index: 1;}div.sk-parallel {display: flex;align-items: stretch;justify-content: center;background-color: white;}div.sk-parallel-item {display: flex;flex-direction: column;position: relative;background-color: white;}div.sk-parallel-item:first-child::after {align-self: flex-end;width: 50%;}div.sk-parallel-item:last-child::after {align-self: flex-start;width: 50%;}div.sk-parallel-item:only-child::after {width: 0;}div.sk-dashed-wrapped {border: 1px dashed gray;margin: 0.2em;box-sizing: border-box;padding-bottom: 0.1em;background-color: white;position: relative;}div.sk-label label {font-family: monospace;font-weight: bold;background-color: white;display: inline-block;line-height: 1.2em;}div.sk-label-container {position: relative;z-index: 2;text-align: center;}div.sk-container {display: inline-block;position: relative;}</style><div class=\"sk-top-container\"><div class=\"sk-container\"><div class=\"sk-item\"><div class=\"sk-estimator sk-toggleable\"><input class=\"sk-toggleable__control sk-hidden--visually\" id=\"e8197467-2fcd-40ce-bd3a-dcdaf6e34482\" type=\"checkbox\" checked><label class=\"sk-toggleable__label\" for=\"e8197467-2fcd-40ce-bd3a-dcdaf6e34482\">RandomForestClassifier</label><div class=\"sk-toggleable__content\"><pre>RandomForestClassifier(n_jobs=-1)</pre></div></div></div></div></div>"
      ],
      "text/plain": [
       "RandomForestClassifier(n_jobs=-1)"
      ]
     },
     "execution_count": 58,
     "metadata": {},
     "output_type": "execute_result"
    }
   ],
   "source": [
    "from sklearn.ensemble import RandomForestClassifier\n",
    "\n",
    "clf = RandomForestClassifier(n_jobs=-1)\n",
    "clf.fit(X_train, y_train.to_numpy().reshape(-1))"
   ]
  },
  {
   "cell_type": "code",
   "execution_count": 59,
   "id": "4774d98a-2274-47e9-aca0-81a368e978ed",
   "metadata": {},
   "outputs": [
    {
     "name": "stdout",
     "output_type": "stream",
     "text": [
      "Original Training Dataset\n",
      "              precision    recall  f1-score   support\n",
      "\n",
      "           0       1.00      1.00      1.00   1474194\n",
      "           1       1.00      1.00      1.00      7721\n",
      "\n",
      "    accuracy                           1.00   1481915\n",
      "   macro avg       1.00      1.00      1.00   1481915\n",
      "weighted avg       1.00      1.00      1.00   1481915\n",
      "\n",
      "Test Dataset\n",
      "              precision    recall  f1-score   support\n",
      "\n",
      "           0       1.00      1.00      1.00    368549\n",
      "           1       0.88      0.68      0.77      1930\n",
      "\n",
      "    accuracy                           1.00    370479\n",
      "   macro avg       0.94      0.84      0.88    370479\n",
      "weighted avg       1.00      1.00      1.00    370479\n",
      "\n"
     ]
    }
   ],
   "source": [
    "from sklearn.metrics import classification_report\n",
    "\n",
    "print(\"Original Training Dataset\")\n",
    "print(classification_report(y_train, clf.predict(X_train)))\n",
    "\n",
    "print(\"Test Dataset\")\n",
    "print(classification_report(y_test, clf.predict(X_test)))"
   ]
  },
  {
   "cell_type": "markdown",
   "id": "fb30513e-5d3b-41f5-a11d-b7e51d51a6a7",
   "metadata": {},
   "source": [
    "## Undersampling"
   ]
  },
  {
   "cell_type": "code",
   "execution_count": 55,
   "id": "2390aec5-4a22-4ee7-abcf-0d95a7a2ac23",
   "metadata": {},
   "outputs": [
    {
     "name": "stdout",
     "output_type": "stream",
     "text": [
      "(15442, 19) (15442, 1)\n"
     ]
    }
   ],
   "source": [
    "from imblearn.under_sampling import RandomUnderSampler\n",
    "\n",
    "X_us, y_us = RandomUnderSampler().fit_resample(X_train, y_train)\n",
    "\n",
    "print(X_us.shape, y_us.shape)"
   ]
  },
  {
   "cell_type": "code",
   "execution_count": 56,
   "id": "21acd784-c70c-4352-8ab1-5713d1b3ee96",
   "metadata": {},
   "outputs": [
    {
     "data": {
      "text/html": [
       "<style>div.sk-top-container {color: black;background-color: white;}div.sk-toggleable {background-color: white;}label.sk-toggleable__label {cursor: pointer;display: block;width: 100%;margin-bottom: 0;padding: 0.2em 0.3em;box-sizing: border-box;text-align: center;}div.sk-toggleable__content {max-height: 0;max-width: 0;overflow: hidden;text-align: left;background-color: #f0f8ff;}div.sk-toggleable__content pre {margin: 0.2em;color: black;border-radius: 0.25em;background-color: #f0f8ff;}input.sk-toggleable__control:checked~div.sk-toggleable__content {max-height: 200px;max-width: 100%;overflow: auto;}div.sk-estimator input.sk-toggleable__control:checked~label.sk-toggleable__label {background-color: #d4ebff;}div.sk-label input.sk-toggleable__control:checked~label.sk-toggleable__label {background-color: #d4ebff;}input.sk-hidden--visually {border: 0;clip: rect(1px 1px 1px 1px);clip: rect(1px, 1px, 1px, 1px);height: 1px;margin: -1px;overflow: hidden;padding: 0;position: absolute;width: 1px;}div.sk-estimator {font-family: monospace;background-color: #f0f8ff;margin: 0.25em 0.25em;border: 1px dotted black;border-radius: 0.25em;box-sizing: border-box;}div.sk-estimator:hover {background-color: #d4ebff;}div.sk-parallel-item::after {content: \"\";width: 100%;border-bottom: 1px solid gray;flex-grow: 1;}div.sk-label:hover label.sk-toggleable__label {background-color: #d4ebff;}div.sk-serial::before {content: \"\";position: absolute;border-left: 1px solid gray;box-sizing: border-box;top: 2em;bottom: 0;left: 50%;}div.sk-serial {display: flex;flex-direction: column;align-items: center;background-color: white;}div.sk-item {z-index: 1;}div.sk-parallel {display: flex;align-items: stretch;justify-content: center;background-color: white;}div.sk-parallel-item {display: flex;flex-direction: column;position: relative;background-color: white;}div.sk-parallel-item:first-child::after {align-self: flex-end;width: 50%;}div.sk-parallel-item:last-child::after {align-self: flex-start;width: 50%;}div.sk-parallel-item:only-child::after {width: 0;}div.sk-dashed-wrapped {border: 1px dashed gray;margin: 0.2em;box-sizing: border-box;padding-bottom: 0.1em;background-color: white;position: relative;}div.sk-label label {font-family: monospace;font-weight: bold;background-color: white;display: inline-block;line-height: 1.2em;}div.sk-label-container {position: relative;z-index: 2;text-align: center;}div.sk-container {display: inline-block;position: relative;}</style><div class=\"sk-top-container\"><div class=\"sk-container\"><div class=\"sk-item\"><div class=\"sk-estimator sk-toggleable\"><input class=\"sk-toggleable__control sk-hidden--visually\" id=\"0a3bf00c-ca5c-40f1-a302-7ee0fba93a1f\" type=\"checkbox\" checked><label class=\"sk-toggleable__label\" for=\"0a3bf00c-ca5c-40f1-a302-7ee0fba93a1f\">RandomForestClassifier</label><div class=\"sk-toggleable__content\"><pre>RandomForestClassifier(n_jobs=-1)</pre></div></div></div></div></div>"
      ],
      "text/plain": [
       "RandomForestClassifier(n_jobs=-1)"
      ]
     },
     "execution_count": 56,
     "metadata": {},
     "output_type": "execute_result"
    }
   ],
   "source": [
    "from sklearn.ensemble import RandomForestClassifier\n",
    "\n",
    "clf = RandomForestClassifier(n_jobs=-1)\n",
    "clf.fit(X_us, y_us.to_numpy().reshape(-1))"
   ]
  },
  {
   "cell_type": "code",
   "execution_count": 57,
   "id": "e16fd346-bed5-4ebe-8b1b-a43246ec395d",
   "metadata": {},
   "outputs": [
    {
     "name": "stdout",
     "output_type": "stream",
     "text": [
      "Undersampled Training Dataset\n",
      "              precision    recall  f1-score   support\n",
      "\n",
      "           0       1.00      1.00      1.00      7721\n",
      "           1       1.00      1.00      1.00      7721\n",
      "\n",
      "    accuracy                           1.00     15442\n",
      "   macro avg       1.00      1.00      1.00     15442\n",
      "weighted avg       1.00      1.00      1.00     15442\n",
      "\n",
      "Original Training Dataset\n",
      "              precision    recall  f1-score   support\n",
      "\n",
      "           0       1.00      0.97      0.99   1474194\n",
      "           1       0.15      1.00      0.27      7721\n",
      "\n",
      "    accuracy                           0.97   1481915\n",
      "   macro avg       0.58      0.99      0.63   1481915\n",
      "weighted avg       1.00      0.97      0.98   1481915\n",
      "\n",
      "Test Dataset\n",
      "              precision    recall  f1-score   support\n",
      "\n",
      "           0       1.00      0.97      0.99    368549\n",
      "           1       0.15      0.96      0.26      1930\n",
      "\n",
      "    accuracy                           0.97    370479\n",
      "   macro avg       0.57      0.97      0.62    370479\n",
      "weighted avg       1.00      0.97      0.98    370479\n",
      "\n"
     ]
    }
   ],
   "source": [
    "from sklearn.metrics import classification_report\n",
    "\n",
    "print(\"Undersampled Training Dataset\")\n",
    "print(classification_report(y_us, clf.predict(X_us)))\n",
    "\n",
    "print(\"Original Training Dataset\")\n",
    "print(classification_report(y_train, clf.predict(X_train)))\n",
    "\n",
    "print(\"Test Dataset\")\n",
    "print(classification_report(y_test, clf.predict(X_test)))"
   ]
  },
  {
   "cell_type": "markdown",
   "id": "d934a7ce-568f-4dc8-b87d-76094f0754fb",
   "metadata": {},
   "source": [
    "## Oversampling"
   ]
  },
  {
   "cell_type": "code",
   "execution_count": 47,
   "id": "dd0ace4f-b575-439a-bef2-de98b15e8f17",
   "metadata": {},
   "outputs": [
    {
     "name": "stdout",
     "output_type": "stream",
     "text": [
      "(2948388, 19) (2948388, 1)\n"
     ]
    }
   ],
   "source": [
    "from imblearn.over_sampling import SMOTE\n",
    "\n",
    "X_os, y_os = SMOTE(n_jobs=-1).fit_resample(X_train, y_train)\n",
    "\n",
    "print(X_os.shape, y_os.shape)"
   ]
  },
  {
   "cell_type": "code",
   "execution_count": 49,
   "id": "9ae1c2b1-a5a5-4551-8e5a-d3578876be5b",
   "metadata": {},
   "outputs": [
    {
     "data": {
      "text/html": [
       "<style>div.sk-top-container {color: black;background-color: white;}div.sk-toggleable {background-color: white;}label.sk-toggleable__label {cursor: pointer;display: block;width: 100%;margin-bottom: 0;padding: 0.2em 0.3em;box-sizing: border-box;text-align: center;}div.sk-toggleable__content {max-height: 0;max-width: 0;overflow: hidden;text-align: left;background-color: #f0f8ff;}div.sk-toggleable__content pre {margin: 0.2em;color: black;border-radius: 0.25em;background-color: #f0f8ff;}input.sk-toggleable__control:checked~div.sk-toggleable__content {max-height: 200px;max-width: 100%;overflow: auto;}div.sk-estimator input.sk-toggleable__control:checked~label.sk-toggleable__label {background-color: #d4ebff;}div.sk-label input.sk-toggleable__control:checked~label.sk-toggleable__label {background-color: #d4ebff;}input.sk-hidden--visually {border: 0;clip: rect(1px 1px 1px 1px);clip: rect(1px, 1px, 1px, 1px);height: 1px;margin: -1px;overflow: hidden;padding: 0;position: absolute;width: 1px;}div.sk-estimator {font-family: monospace;background-color: #f0f8ff;margin: 0.25em 0.25em;border: 1px dotted black;border-radius: 0.25em;box-sizing: border-box;}div.sk-estimator:hover {background-color: #d4ebff;}div.sk-parallel-item::after {content: \"\";width: 100%;border-bottom: 1px solid gray;flex-grow: 1;}div.sk-label:hover label.sk-toggleable__label {background-color: #d4ebff;}div.sk-serial::before {content: \"\";position: absolute;border-left: 1px solid gray;box-sizing: border-box;top: 2em;bottom: 0;left: 50%;}div.sk-serial {display: flex;flex-direction: column;align-items: center;background-color: white;}div.sk-item {z-index: 1;}div.sk-parallel {display: flex;align-items: stretch;justify-content: center;background-color: white;}div.sk-parallel-item {display: flex;flex-direction: column;position: relative;background-color: white;}div.sk-parallel-item:first-child::after {align-self: flex-end;width: 50%;}div.sk-parallel-item:last-child::after {align-self: flex-start;width: 50%;}div.sk-parallel-item:only-child::after {width: 0;}div.sk-dashed-wrapped {border: 1px dashed gray;margin: 0.2em;box-sizing: border-box;padding-bottom: 0.1em;background-color: white;position: relative;}div.sk-label label {font-family: monospace;font-weight: bold;background-color: white;display: inline-block;line-height: 1.2em;}div.sk-label-container {position: relative;z-index: 2;text-align: center;}div.sk-container {display: inline-block;position: relative;}</style><div class=\"sk-top-container\"><div class=\"sk-container\"><div class=\"sk-item\"><div class=\"sk-estimator sk-toggleable\"><input class=\"sk-toggleable__control sk-hidden--visually\" id=\"a21c51bf-48c6-4299-8d26-8d055ca97332\" type=\"checkbox\" checked><label class=\"sk-toggleable__label\" for=\"a21c51bf-48c6-4299-8d26-8d055ca97332\">RandomForestClassifier</label><div class=\"sk-toggleable__content\"><pre>RandomForestClassifier(n_jobs=-1)</pre></div></div></div></div></div>"
      ],
      "text/plain": [
       "RandomForestClassifier(n_jobs=-1)"
      ]
     },
     "execution_count": 49,
     "metadata": {},
     "output_type": "execute_result"
    }
   ],
   "source": [
    "from sklearn.ensemble import RandomForestClassifier\n",
    "\n",
    "clf = RandomForestClassifier(n_jobs=-1)\n",
    "clf.fit(X_os, y_os.to_numpy().reshape(-1))"
   ]
  },
  {
   "cell_type": "code",
   "execution_count": 50,
   "id": "3c21eb8e-befe-448b-80d8-059f6c6623c5",
   "metadata": {},
   "outputs": [
    {
     "name": "stdout",
     "output_type": "stream",
     "text": [
      "Oversampled Training Dataset\n",
      "              precision    recall  f1-score   support\n",
      "\n",
      "           0       1.00      1.00      1.00   1474194\n",
      "           1       1.00      1.00      1.00   1474194\n",
      "\n",
      "    accuracy                           1.00   2948388\n",
      "   macro avg       1.00      1.00      1.00   2948388\n",
      "weighted avg       1.00      1.00      1.00   2948388\n",
      "\n",
      "Original Training Dataset\n",
      "              precision    recall  f1-score   support\n",
      "\n",
      "           0       1.00      1.00      1.00   1474194\n",
      "           1       1.00      1.00      1.00      7721\n",
      "\n",
      "    accuracy                           1.00   1481915\n",
      "   macro avg       1.00      1.00      1.00   1481915\n",
      "weighted avg       1.00      1.00      1.00   1481915\n",
      "\n",
      "Test Dataset\n",
      "              precision    recall  f1-score   support\n",
      "\n",
      "           0       1.00      1.00      1.00    368549\n",
      "           1       0.53      0.84      0.65      1930\n",
      "\n",
      "    accuracy                           1.00    370479\n",
      "   macro avg       0.76      0.92      0.82    370479\n",
      "weighted avg       1.00      1.00      1.00    370479\n",
      "\n"
     ]
    }
   ],
   "source": [
    "from sklearn.metrics import classification_report\n",
    "\n",
    "print(\"Oversampled Training Dataset\")\n",
    "print(classification_report(y_os, clf.predict(X_os)))\n",
    "\n",
    "print(\"Original Training Dataset\")\n",
    "print(classification_report(y_train, clf.predict(X_train)))\n",
    "\n",
    "print(\"Test Dataset\")\n",
    "print(classification_report(y_test, clf.predict(X_test)))"
   ]
  }
 ],
 "metadata": {
  "kernelspec": {
   "display_name": "Python 3",
   "language": "python",
   "name": "python3"
  },
  "language_info": {
   "codemirror_mode": {
    "name": "ipython",
    "version": 3
   },
   "file_extension": ".py",
   "mimetype": "text/x-python",
   "name": "python",
   "nbconvert_exporter": "python",
   "pygments_lexer": "ipython3",
   "version": "3.8.8"
  }
 },
 "nbformat": 4,
 "nbformat_minor": 5
}
