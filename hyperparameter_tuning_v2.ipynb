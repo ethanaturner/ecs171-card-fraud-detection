{
 "cells": [
  {
   "cell_type": "markdown",
   "metadata": {},
   "source": [
    "# Neural Network"
   ]
  },
  {
   "cell_type": "markdown",
   "metadata": {},
   "source": [
    "### 0. Read Data from Prev Notebook"
   ]
  },
  {
   "cell_type": "code",
   "execution_count": 1,
   "metadata": {},
   "outputs": [
    {
     "data": {
      "text/html": [
       "<div>\n",
       "<style scoped>\n",
       "    .dataframe tbody tr th:only-of-type {\n",
       "        vertical-align: middle;\n",
       "    }\n",
       "\n",
       "    .dataframe tbody tr th {\n",
       "        vertical-align: top;\n",
       "    }\n",
       "\n",
       "    .dataframe thead th {\n",
       "        text-align: right;\n",
       "    }\n",
       "</style>\n",
       "<table border=\"1\" class=\"dataframe\">\n",
       "  <thead>\n",
       "    <tr style=\"text-align: right;\">\n",
       "      <th></th>\n",
       "      <th>category</th>\n",
       "      <th>amt</th>\n",
       "      <th>is_fraud</th>\n",
       "      <th>hour</th>\n",
       "      <th>trans_count_7d</th>\n",
       "      <th>trans_count_30d</th>\n",
       "      <th>time_diff</th>\n",
       "    </tr>\n",
       "  </thead>\n",
       "  <tbody>\n",
       "    <tr>\n",
       "      <th>0</th>\n",
       "      <td>misc_net</td>\n",
       "      <td>4.97</td>\n",
       "      <td>0</td>\n",
       "      <td>1</td>\n",
       "      <td>0.0</td>\n",
       "      <td>0.0</td>\n",
       "      <td>0.000000</td>\n",
       "    </tr>\n",
       "    <tr>\n",
       "      <th>1</th>\n",
       "      <td>grocery_pos</td>\n",
       "      <td>107.23</td>\n",
       "      <td>0</td>\n",
       "      <td>1</td>\n",
       "      <td>0.0</td>\n",
       "      <td>0.0</td>\n",
       "      <td>0.000000</td>\n",
       "    </tr>\n",
       "    <tr>\n",
       "      <th>2</th>\n",
       "      <td>entertainment</td>\n",
       "      <td>220.11</td>\n",
       "      <td>0</td>\n",
       "      <td>1</td>\n",
       "      <td>0.0</td>\n",
       "      <td>0.0</td>\n",
       "      <td>0.000000</td>\n",
       "    </tr>\n",
       "    <tr>\n",
       "      <th>3</th>\n",
       "      <td>gas_transport</td>\n",
       "      <td>45.00</td>\n",
       "      <td>0</td>\n",
       "      <td>1</td>\n",
       "      <td>0.0</td>\n",
       "      <td>0.0</td>\n",
       "      <td>0.000000</td>\n",
       "    </tr>\n",
       "    <tr>\n",
       "      <th>4</th>\n",
       "      <td>misc_pos</td>\n",
       "      <td>41.96</td>\n",
       "      <td>0</td>\n",
       "      <td>1</td>\n",
       "      <td>0.0</td>\n",
       "      <td>0.0</td>\n",
       "      <td>0.000000</td>\n",
       "    </tr>\n",
       "    <tr>\n",
       "      <th>...</th>\n",
       "      <td>...</td>\n",
       "      <td>...</td>\n",
       "      <td>...</td>\n",
       "      <td>...</td>\n",
       "      <td>...</td>\n",
       "      <td>...</td>\n",
       "      <td>...</td>\n",
       "    </tr>\n",
       "    <tr>\n",
       "      <th>1852389</th>\n",
       "      <td>health_fitness</td>\n",
       "      <td>43.77</td>\n",
       "      <td>0</td>\n",
       "      <td>1</td>\n",
       "      <td>39.0</td>\n",
       "      <td>167.0</td>\n",
       "      <td>4.619444</td>\n",
       "    </tr>\n",
       "    <tr>\n",
       "      <th>1852390</th>\n",
       "      <td>kids_pets</td>\n",
       "      <td>111.84</td>\n",
       "      <td>0</td>\n",
       "      <td>1</td>\n",
       "      <td>62.0</td>\n",
       "      <td>272.0</td>\n",
       "      <td>2.706389</td>\n",
       "    </tr>\n",
       "    <tr>\n",
       "      <th>1852391</th>\n",
       "      <td>kids_pets</td>\n",
       "      <td>86.88</td>\n",
       "      <td>0</td>\n",
       "      <td>1</td>\n",
       "      <td>67.0</td>\n",
       "      <td>277.0</td>\n",
       "      <td>0.201111</td>\n",
       "    </tr>\n",
       "    <tr>\n",
       "      <th>1852392</th>\n",
       "      <td>travel</td>\n",
       "      <td>7.99</td>\n",
       "      <td>0</td>\n",
       "      <td>1</td>\n",
       "      <td>36.0</td>\n",
       "      <td>192.0</td>\n",
       "      <td>3.340278</td>\n",
       "    </tr>\n",
       "    <tr>\n",
       "      <th>1852393</th>\n",
       "      <td>entertainment</td>\n",
       "      <td>38.13</td>\n",
       "      <td>0</td>\n",
       "      <td>1</td>\n",
       "      <td>67.0</td>\n",
       "      <td>286.0</td>\n",
       "      <td>1.982222</td>\n",
       "    </tr>\n",
       "  </tbody>\n",
       "</table>\n",
       "<p>1852394 rows × 7 columns</p>\n",
       "</div>"
      ],
      "text/plain": [
       "               category     amt  is_fraud  hour  trans_count_7d  \\\n",
       "0              misc_net    4.97         0     1             0.0   \n",
       "1           grocery_pos  107.23         0     1             0.0   \n",
       "2         entertainment  220.11         0     1             0.0   \n",
       "3         gas_transport   45.00         0     1             0.0   \n",
       "4              misc_pos   41.96         0     1             0.0   \n",
       "...                 ...     ...       ...   ...             ...   \n",
       "1852389  health_fitness   43.77         0     1            39.0   \n",
       "1852390       kids_pets  111.84         0     1            62.0   \n",
       "1852391       kids_pets   86.88         0     1            67.0   \n",
       "1852392          travel    7.99         0     1            36.0   \n",
       "1852393   entertainment   38.13         0     1            67.0   \n",
       "\n",
       "         trans_count_30d  time_diff  \n",
       "0                    0.0   0.000000  \n",
       "1                    0.0   0.000000  \n",
       "2                    0.0   0.000000  \n",
       "3                    0.0   0.000000  \n",
       "4                    0.0   0.000000  \n",
       "...                  ...        ...  \n",
       "1852389            167.0   4.619444  \n",
       "1852390            272.0   2.706389  \n",
       "1852391            277.0   0.201111  \n",
       "1852392            192.0   3.340278  \n",
       "1852393            286.0   1.982222  \n",
       "\n",
       "[1852394 rows x 7 columns]"
      ]
     },
     "execution_count": 1,
     "metadata": {},
     "output_type": "execute_result"
    }
   ],
   "source": [
    "import pandas as pd\n",
    "\n",
    "df = pd.read_csv('data-stage2.csv')\n",
    "df"
   ]
  },
  {
   "cell_type": "markdown",
   "metadata": {},
   "source": [
    "### 1. Scaling and Encoding"
   ]
  },
  {
   "cell_type": "code",
   "execution_count": 2,
   "metadata": {},
   "outputs": [
    {
     "data": {
      "text/html": [
       "<style>div.sk-top-container {color: black;background-color: white;}div.sk-toggleable {background-color: white;}label.sk-toggleable__label {cursor: pointer;display: block;width: 100%;margin-bottom: 0;padding: 0.2em 0.3em;box-sizing: border-box;text-align: center;}div.sk-toggleable__content {max-height: 0;max-width: 0;overflow: hidden;text-align: left;background-color: #f0f8ff;}div.sk-toggleable__content pre {margin: 0.2em;color: black;border-radius: 0.25em;background-color: #f0f8ff;}input.sk-toggleable__control:checked~div.sk-toggleable__content {max-height: 200px;max-width: 100%;overflow: auto;}div.sk-estimator input.sk-toggleable__control:checked~label.sk-toggleable__label {background-color: #d4ebff;}div.sk-label input.sk-toggleable__control:checked~label.sk-toggleable__label {background-color: #d4ebff;}input.sk-hidden--visually {border: 0;clip: rect(1px 1px 1px 1px);clip: rect(1px, 1px, 1px, 1px);height: 1px;margin: -1px;overflow: hidden;padding: 0;position: absolute;width: 1px;}div.sk-estimator {font-family: monospace;background-color: #f0f8ff;margin: 0.25em 0.25em;border: 1px dotted black;border-radius: 0.25em;box-sizing: border-box;}div.sk-estimator:hover {background-color: #d4ebff;}div.sk-parallel-item::after {content: \"\";width: 100%;border-bottom: 1px solid gray;flex-grow: 1;}div.sk-label:hover label.sk-toggleable__label {background-color: #d4ebff;}div.sk-serial::before {content: \"\";position: absolute;border-left: 1px solid gray;box-sizing: border-box;top: 2em;bottom: 0;left: 50%;}div.sk-serial {display: flex;flex-direction: column;align-items: center;background-color: white;}div.sk-item {z-index: 1;}div.sk-parallel {display: flex;align-items: stretch;justify-content: center;background-color: white;}div.sk-parallel-item {display: flex;flex-direction: column;position: relative;background-color: white;}div.sk-parallel-item:first-child::after {align-self: flex-end;width: 50%;}div.sk-parallel-item:last-child::after {align-self: flex-start;width: 50%;}div.sk-parallel-item:only-child::after {width: 0;}div.sk-dashed-wrapped {border: 1px dashed gray;margin: 0.2em;box-sizing: border-box;padding-bottom: 0.1em;background-color: white;position: relative;}div.sk-label label {font-family: monospace;font-weight: bold;background-color: white;display: inline-block;line-height: 1.2em;}div.sk-label-container {position: relative;z-index: 2;text-align: center;}div.sk-container {display: inline-block;position: relative;}</style><div class=\"sk-top-container\"><div class=\"sk-container\"><div class=\"sk-item sk-dashed-wrapped\"><div class=\"sk-label-container\"><div class=\"sk-label sk-toggleable\"><input class=\"sk-toggleable__control sk-hidden--visually\" id=\"740f8e79-5c97-4e8b-b232-32527d21c2fa\" type=\"checkbox\" ><label class=\"sk-toggleable__label\" for=\"740f8e79-5c97-4e8b-b232-32527d21c2fa\">ColumnTransformer</label><div class=\"sk-toggleable__content\"><pre>ColumnTransformer(remainder='passthrough',\n",
       "                  transformers=[('num', MinMaxScaler(),\n",
       "                                 <sklearn.compose._column_transformer.make_column_selector object at 0x0000015FBF4F4040>),\n",
       "                                ('cat', OneHotEncoder(),\n",
       "                                 <sklearn.compose._column_transformer.make_column_selector object at 0x0000015FBF4F4100>)])</pre></div></div></div><div class=\"sk-parallel\"><div class=\"sk-parallel-item\"><div class=\"sk-item\"><div class=\"sk-label-container\"><div class=\"sk-label sk-toggleable\"><input class=\"sk-toggleable__control sk-hidden--visually\" id=\"fdddc4dd-cced-49e0-9153-9580c1d88ab4\" type=\"checkbox\" ><label class=\"sk-toggleable__label\" for=\"fdddc4dd-cced-49e0-9153-9580c1d88ab4\">num</label><div class=\"sk-toggleable__content\"><pre><sklearn.compose._column_transformer.make_column_selector object at 0x0000015FBF4F4040></pre></div></div></div><div class=\"sk-serial\"><div class=\"sk-item\"><div class=\"sk-estimator sk-toggleable\"><input class=\"sk-toggleable__control sk-hidden--visually\" id=\"9931dd7f-2b54-413d-882e-ce672bdd6175\" type=\"checkbox\" ><label class=\"sk-toggleable__label\" for=\"9931dd7f-2b54-413d-882e-ce672bdd6175\">MinMaxScaler</label><div class=\"sk-toggleable__content\"><pre>MinMaxScaler()</pre></div></div></div></div></div></div><div class=\"sk-parallel-item\"><div class=\"sk-item\"><div class=\"sk-label-container\"><div class=\"sk-label sk-toggleable\"><input class=\"sk-toggleable__control sk-hidden--visually\" id=\"3fc96337-0b9a-4e69-926c-d59577227e83\" type=\"checkbox\" ><label class=\"sk-toggleable__label\" for=\"3fc96337-0b9a-4e69-926c-d59577227e83\">cat</label><div class=\"sk-toggleable__content\"><pre><sklearn.compose._column_transformer.make_column_selector object at 0x0000015FBF4F4100></pre></div></div></div><div class=\"sk-serial\"><div class=\"sk-item\"><div class=\"sk-estimator sk-toggleable\"><input class=\"sk-toggleable__control sk-hidden--visually\" id=\"0a671ecb-218b-41a0-9c11-4563d69e73d1\" type=\"checkbox\" ><label class=\"sk-toggleable__label\" for=\"0a671ecb-218b-41a0-9c11-4563d69e73d1\">OneHotEncoder</label><div class=\"sk-toggleable__content\"><pre>OneHotEncoder()</pre></div></div></div></div></div></div><div class=\"sk-parallel-item\"><div class=\"sk-item\"><div class=\"sk-label-container\"><div class=\"sk-label sk-toggleable\"><input class=\"sk-toggleable__control sk-hidden--visually\" id=\"35662a15-9d1b-48cd-aeca-5e8fbdd22be6\" type=\"checkbox\" ><label class=\"sk-toggleable__label\" for=\"35662a15-9d1b-48cd-aeca-5e8fbdd22be6\">remainder</label><div class=\"sk-toggleable__content\"><pre></pre></div></div></div><div class=\"sk-serial\"><div class=\"sk-item\"><div class=\"sk-estimator sk-toggleable\"><input class=\"sk-toggleable__control sk-hidden--visually\" id=\"0a656502-dc5e-4092-885a-b6a0cea189b8\" type=\"checkbox\" ><label class=\"sk-toggleable__label\" for=\"0a656502-dc5e-4092-885a-b6a0cea189b8\">passthrough</label><div class=\"sk-toggleable__content\"><pre>passthrough</pre></div></div></div></div></div></div></div></div></div></div>"
      ],
      "text/plain": [
       "ColumnTransformer(remainder='passthrough',\n",
       "                  transformers=[('num', MinMaxScaler(),\n",
       "                                 <sklearn.compose._column_transformer.make_column_selector object at 0x0000015FBF4F4040>),\n",
       "                                ('cat', OneHotEncoder(),\n",
       "                                 <sklearn.compose._column_transformer.make_column_selector object at 0x0000015FBF4F4100>)])"
      ]
     },
     "execution_count": 2,
     "metadata": {},
     "output_type": "execute_result"
    }
   ],
   "source": [
    "from sklearn.compose import ColumnTransformer\n",
    "from sklearn.compose import make_column_selector\n",
    "from sklearn.preprocessing import MinMaxScaler, OneHotEncoder\n",
    "from sklearn import set_config\n",
    "\n",
    "preprocessor = ColumnTransformer(\n",
    "    transformers=[\n",
    "        (\"num\", MinMaxScaler(), make_column_selector(dtype_include=\"float64\")),\n",
    "        (\"cat\", OneHotEncoder(), make_column_selector(dtype_include=\"object\")),\n",
    "    ],\n",
    "    remainder='passthrough'\n",
    ")\n",
    "\n",
    "set_config(display=\"diagram\")\n",
    "\n",
    "preprocessor"
   ]
  },
  {
   "cell_type": "code",
   "execution_count": 3,
   "metadata": {},
   "outputs": [],
   "source": [
    "X = preprocessor.fit_transform(df.drop(columns=['is_fraud']))\n",
    "y = df[['is_fraud']]"
   ]
  },
  {
   "cell_type": "markdown",
   "metadata": {},
   "source": [
    "### 2. Stratified Train-test Split"
   ]
  },
  {
   "cell_type": "code",
   "execution_count": 4,
   "metadata": {},
   "outputs": [
    {
     "name": "stdout",
     "output_type": "stream",
     "text": [
      "(1481915, 19) (370479, 19) (1481915, 1) (370479, 1)\n"
     ]
    }
   ],
   "source": [
    "from sklearn.model_selection import train_test_split\n",
    "\n",
    "X_train, X_test, y_train, y_test = train_test_split(\n",
    "    X,\n",
    "    y,\n",
    "    test_size=0.2,\n",
    "    stratify=y\n",
    ")\n",
    "\n",
    "print(X_train.shape, X_test.shape, y_train.shape, y_test.shape)"
   ]
  },
  {
   "cell_type": "markdown",
   "metadata": {},
   "source": [
    "### 3. Oversampling Training Data"
   ]
  },
  {
   "cell_type": "code",
   "execution_count": 5,
   "metadata": {},
   "outputs": [
    {
     "name": "stdout",
     "output_type": "stream",
     "text": [
      "(2948388, 19) (2948388, 1)\n"
     ]
    }
   ],
   "source": [
    "from imblearn.over_sampling import SMOTE\n",
    "\n",
    "X_os, y_os = SMOTE(n_jobs=-1).fit_resample(X_train, y_train)\n",
    "\n",
    "print(X_os.shape, y_os.shape)"
   ]
  },
  {
   "cell_type": "markdown",
   "metadata": {},
   "source": [
    "### 4. Hyper-parameter Tuning using Keras Tuner\n",
    "\n",
    "Only run below if you want to hyperparameter tune the model further. It is time consuming because we optimize number of layers, number of units per layer and learning rate together. This uses Keras' Hyperband Tuner class to automatically set epochs and perform tournament rounds of optimizations."
   ]
  },
  {
   "cell_type": "code",
   "execution_count": 6,
   "metadata": {},
   "outputs": [],
   "source": [
    "!pip install keras-tuner -q\n",
    "from tensorflow import keras\n",
    "from tensorflow.keras.wrappers.scikit_learn import KerasClassifier\n",
    "import keras_tuner as kt\n",
    "from tensorflow.keras import layers"
   ]
  },
  {
   "cell_type": "code",
   "execution_count": 7,
   "metadata": {},
   "outputs": [],
   "source": [
    "class MyHyperModel(kt.HyperModel):\n",
    "    def build(self, hp):\n",
    "        \n",
    "        # Using a sequential Keras model\n",
    "        model = keras.models.Sequential([keras.Input(shape=(19),)])\n",
    "        \n",
    "        # Initialize layer units to input layer size\n",
    "        #  at each iteration scale down each layer randomly\n",
    "        OldUnits = 19\n",
    "        # Tune number of layers and units\n",
    "        for i in range(hp.Int(\"num_layers\", 1, 4)):       \n",
    "            \n",
    "            # Create hyper param boundaries\n",
    "            NewScale = hp.Float(\n",
    "                \"unitscale_\" + str(i), \n",
    "                min_value=.5, \n",
    "                max_value=1, step=.05\n",
    "            )\n",
    "            \n",
    "            # Ceil to avoid scaling to 0\n",
    "            NewUnits = np.ceil(NewScale*OldUnits)\n",
    "            OldUnits = NewUnits\n",
    "            model.add(\n",
    "                layers.Dense(\n",
    "                    units=NewUnits,\n",
    "                    activation=\"relu\",\n",
    "                )\n",
    "            )\n",
    "            \n",
    "        # Constant single output layer\n",
    "        model.add(\n",
    "            layers.Dense(\n",
    "                units=1, \n",
    "                activation=\"sigmoid\"\n",
    "            )\n",
    "        )\n",
    "                                         \n",
    "        # Compile model, tune learning rate\n",
    "        model.compile(\n",
    "            optimizer=keras.optimizers.SGD(hp.Choice(\"learning_rate\", \n",
    "                                                     [5e-3, 1e-2, 5e-2, 1e-1, 5e-1])),\n",
    "            loss=keras.losses.BinaryCrossentropy(), \n",
    "            metrics=[\n",
    "                keras.metrics.BinaryAccuracy(name=\"accuracy\"),\n",
    "                keras.metrics.Precision(name=\"precision\", ),\n",
    "                keras.metrics.Recall(name=\"recall\")\n",
    "            ]\n",
    "        )\n",
    "        \n",
    "        return model"
   ]
  },
  {
   "cell_type": "code",
   "execution_count": null,
   "metadata": {},
   "outputs": [],
   "source": [
    "#Instantiate hyper parameter tuning model\n",
    "hypermodel = MyHyperModel()\n",
    "\n",
    "# We can let the Tuner select our HPs\n",
    "#  within the allotted ranges\n",
    "#  or set them explicitly below\n",
    "# hp = HyperParameters()\n",
    "# Override values like so if needed:\n",
    "#  hp.Choice(\"learning_rate\", values=[1e-2, 1e-3, 1e-4])\n",
    "\n",
    "# Hyperband Tuner, fast to converge on high quality model\n",
    "tuner = kt.Hyperband(hypermodel,\n",
    "                     metrics=[\n",
    "                        keras.metrics.BinaryAccuracy(name=\"accuracy\"),\n",
    "                        keras.metrics.Precision(name=\"precision\"),\n",
    "                        keras.metrics.Recall(name=\"recall\")\n",
    "                     ],\n",
    "                     objective=kt.Objective(name=\"val_precision\", direction=\"max\"),\n",
    "                     max_epochs=150,\n",
    "                     seed = 123,\n",
    "                     directory='Hyperband_tuner_dir',\n",
    "                     project_name='Hyperband_tuner',\n",
    "                     overwrite=True)\n",
    "\n",
    "tuner.search(\n",
    "    X_os,\n",
    "    y_os,\n",
    "    epochs=15, \n",
    "    validation_data=(X_test, y_test),\n",
    "    use_multiprocessing=True\n",
    ")"
   ]
  },
  {
   "cell_type": "code",
   "execution_count": null,
   "metadata": {},
   "outputs": [],
   "source": [
    "tuner.results_summary()"
   ]
  },
  {
   "cell_type": "markdown",
   "metadata": {},
   "source": [
    "### 5. Train Model using the Best Set of Hyper-parameters"
   ]
  },
  {
   "cell_type": "code",
   "execution_count": null,
   "metadata": {
    "scrolled": true
   },
   "outputs": [],
   "source": [
    "model = keras.models.Sequential([keras.Input(shape=(19),)])\n",
    "\n",
    "layer1_num_units = np.ceil(.9*19)\n",
    "layer2_num_units = np.ceil(.8*layer1_num_units)\n",
    "layer3_num_units = np.ceil(.6*layer2_num_units)\n",
    "layer4_num_units = np.ceil(.7*layer3_num_units)\n",
    "\n",
    "# Create hidden layers\n",
    "model.add(\n",
    "    layers.Dense(\n",
    "        units=layer1_num_units,\n",
    "        activation=\"relu\",\n",
    "    )\n",
    ")\n",
    "\n",
    "model.add(\n",
    "   layers.Dense(\n",
    "        units=layer2_num_units,\n",
    "        activation=\"relu\",\n",
    "    )\n",
    ")\n",
    "\n",
    "model.add(\n",
    "   layers.Dense(\n",
    "        units=layer3_num_units,\n",
    "        activation=\"relu\",\n",
    "    )\n",
    ")\n",
    "\n",
    "model.add(\n",
    "   layers.Dense(\n",
    "        units=layer4_num_units,\n",
    "        activation=\"relu\",\n",
    "    )\n",
    ")\n",
    "\n",
    "# Single output layer\n",
    "model.add(\n",
    "    layers.Dense(\n",
    "        units=1, \n",
    "        activation=\"sigmoid\"\n",
    "    )\n",
    ")\n",
    "\n",
    "# Compile model, tune learning rate\n",
    "model.compile(\n",
    "    optimizer=keras.optimizers.SGD(1e-2),\n",
    "    loss=keras.losses.BinaryCrossentropy(), \n",
    "    metrics=[\n",
    "        keras.metrics.BinaryAccuracy(name=\"accuracy\"),\n",
    "        keras.metrics.Precision(name=\"precision\"),\n",
    "        keras.metrics.Recall(name=\"recall\")\n",
    "    ]\n",
    ")\n",
    "\n",
    "print(\"Fit model on training data\")\n",
    "history = model.fit(\n",
    "    X_os,\n",
    "    y_os,\n",
    "    # Change to 50 to get full results, for faster testing keep at 10\n",
    "    epochs=50,\n",
    "    validation_data=(X_test, y_test)\n",
    ")\n"
   ]
  },
  {
   "cell_type": "markdown",
   "metadata": {},
   "source": [
    "## Evaluate on full test set"
   ]
  },
  {
   "cell_type": "code",
   "execution_count": null,
   "metadata": {},
   "outputs": [],
   "source": [
    "print(\"Evaluate on test data\")\n",
    "results = model.evaluate(X_test, y_test)\n",
    "print(\"test loss, test acc:\", results)"
   ]
  }
 ],
 "metadata": {
  "kernelspec": {
   "display_name": "Python 3",
   "language": "python",
   "name": "python3"
  },
  "language_info": {
   "codemirror_mode": {
    "name": "ipython",
    "version": 3
   },
   "file_extension": ".py",
   "mimetype": "text/x-python",
   "name": "python",
   "nbconvert_exporter": "python",
   "pygments_lexer": "ipython3",
   "version": "3.8.8"
  }
 },
 "nbformat": 4,
 "nbformat_minor": 4
}
